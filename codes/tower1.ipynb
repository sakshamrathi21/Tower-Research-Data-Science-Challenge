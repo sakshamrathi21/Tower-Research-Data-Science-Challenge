{
  "cells": [
    {
      "cell_type": "code",
      "execution_count": null,
      "metadata": {
        "id": "cRolaw1Mtntg"
      },
      "outputs": [],
      "source": []
    },
    {
      "cell_type": "code",
      "execution_count": 19,
      "metadata": {},
      "outputs": [],
      "source": [
        "dictmodel={}\n",
        "player_ids = list(players_data.keys())\n",
        "lenWindow = 7\n",
        "for p in player_ids:\n",
        "\n",
        "    # Extract features and target for the current player for training\n",
        "    X_train, y_train = process_player_data(p, players_data[p], lenWindow)\n",
        "\n",
        "    # Train the ML model (example: RandomForestClassifier)\n",
        "    model = RandomForestClassifier()\n",
        "    model.fit(X_train, y_train)\n",
        "    dictmodel[p]=model \n"
      ]
    },
    {
      "cell_type": "code",
      "execution_count": 20,
      "metadata": {},
      "outputs": [],
      "source": [
        "from collections import defaultdict\n",
        "\n",
        "class Graph:\n",
        "    def __init__(self):\n",
        "        self.graph = defaultdict(list)\n",
        "\n",
        "    def add_edge(self, u, v):\n",
        "        self.graph[u].append(v)\n",
        "        self.graph[v].append(u)\n",
        "\n",
        "    def dfs(self, v, visited):\n",
        "        visited[v] = True\n",
        "        for i in self.graph[v]:\n",
        "            if visited[i] == False:\n",
        "                self.dfs(i, visited)\n",
        "\n",
        "    def count_connected_components(self):\n",
        "        visited = defaultdict(bool)\n",
        "        count = 0\n",
        "        for v in self.graph:\n",
        "            if visited[v] == False:\n",
        "                self.dfs(v, visited)\n",
        "                count += 1\n",
        "        return count\n",
        "    \n",
        "\n",
        "# Example usage:\n",
        "# g = Graph()\n",
        "# g.add_edge(0, 1)\n",
        "# g.add_edge(0, 2)\n",
        "# g.add_edge(3, 4)\n",
        "\n",
        "# print(\"Number of connected components:\", g.count_connected_components())"
      ]
    },
    {
      "cell_type": "code",
      "execution_count": 21,
      "metadata": {},
      "outputs": [],
      "source": [
        "dictprod={}\n",
        "acc=0.9\n",
        "for p in player_ids:\n",
        "    dictprod[p]=process_player_data(p,players_data[p],lenWindow)\n",
        "\n",
        "\n",
        "\n",
        "\n",
        "g=Graph()\n",
        "for p in player_ids:\n",
        "    for q in player_ids:\n",
        "        if(p!=q):\n",
        "            X_test, y_test = dictprod[q]\n",
        "            # Evaluate the model\n",
        "            y_pred = dictmodel[p].predict(X_test)\n",
        "            accuracy1 = accuracy_score(y_test, y_pred)\n",
        "            X_test, y_test = dictprod[p]\n",
        "            # Evaluate the model\n",
        "            y_pred = dictmodel[q].predict(X_test)\n",
        "            accuracy2 = accuracy_score(y_test, y_pred)\n",
        "            if accuracy1>acc and accuracy2>acc:\n",
        "                g.add_edge(p,q)\n",
        "print(g.count_connected_components())\n",
        "            "
      ]
    },
    {
      "cell_type": "code",
      "execution_count": 23,
      "metadata": {},
      "outputs": [],
      "source": [
        "def dfs(g, v, visited, component):\n",
        "    visited[v] = True\n",
        "    component.append(v)\n",
        "    for i in g.graph[v]:\n",
        "        if visited[i] == False:\n",
        "            dfs(g,i, visited, component)\n",
        "\n",
        "def get_connected_components(g):\n",
        "    visited = defaultdict(bool)\n",
        "    connected_components = []\n",
        "    for v in g.graph:\n",
        "        if visited[v] == False:\n",
        "            component = []\n",
        "            dfs(g,v, visited, component)\n",
        "            connected_components.append(component)\n",
        "    return connected_components\n",
        "\n",
        "print(get_connected_components(g))"
      ]
    },
    {
      "cell_type": "code",
      "execution_count": 27,
      "metadata": {},
      "outputs": [
        {
          "name": "stdout",
          "output_type": "stream",
          "text": [
            "11\n"
          ]
        }
      ],
      "source": [
        "con_cop=[[174, 100, 67, 113, 180, 149, 118, 77, 30, 79, 190, 2, 138, 3, 126, 159, 179, 150, 20, 42, 93], [125, 88, 157, 144, 73, 5, 182, 7, 89, 200, 148, 64, 110, 15, 115, 129, 136, 96, 146, 53, 36, 22, 25, 108, 158, 14, 33, 57, 105, 4, 23, 1, 87, 56, 162, 143, 188, 27, 19, 39, 141, 169, 58, 168, 34, 152, 76, 131, 197, 172, 111, 38, 55, 92, 185, 189, 37, 167, 65, 183, 97, 155, 85], [121, 175, 13, 137, 194, 60, 178, 95, 104, 192, 193, 128, 9, 181], [82, 70, 47, 51, 35, 17, 199, 86, 45, 154, 69, 12, 52, 63, 134, 177, 195, 176, 80, 74, 161, 101, 103, 171, 201, 107, 165, 46], [62, 91, 84, 109, 117, 140, 21, 29, 59, 78, 16, 94, 72, 166, 145, 81, 160, 18, 142, 122, 116, 132], [44, 153, 28, 11, 198, 10, 163, 41, 106, 164, 112, 135, 130, 75], [8, 6, 127, 43, 31, 191, 139, 99, 61, 133, 196, 186], [68, 83, 119, 71, 32, 50, 173, 114, 156, 187, 124, 24]]\n",
        "dictprod={}\n",
        "player_ids = list(players_data.keys())\n",
        "acc=0.9\n",
        "for p in player_ids:\n",
        "    dictprod[p]=process_player_data(p,players_data[p],lenWindow)\n",
        "\n",
        "dictk={}\n",
        "\n",
        "g=Graph()\n",
        "for p in player_ids:\n",
        "    for q in player_ids:\n",
        "        if(p!=q):\n",
        "            X_test, y_test = dictprod[q]\n",
        "            # Evaluate the model\n",
        "            y_pred = dictmodel[p].predict(X_test)\n",
        "            accuracy1 = accuracy_score(y_test, y_pred)\n",
        "            X_test, y_test = dictprod[p]\n",
        "            # Evaluate the model\n",
        "            y_pred = dictmodel[q].predict(X_test)\n",
        "            \n",
        "            accuracy2 = accuracy_score(y_test, y_pred)\n",
        "            dictk[(p,q)]=(accuracy1,accuracy2)\n",
        "            if accuracy1>acc and accuracy2>acc:\n",
        "                g.add_edge(p,q)\n",
        "print(g.count_connected_components())\n",
        "            "
      ]
    },
    {
      "cell_type": "code",
      "execution_count": 37,
      "metadata": {},
      "outputs": [
        {
          "name": "stdout",
          "output_type": "stream",
          "text": [
            "[[174, 67, 113, 180, 30, 77, 79, 159, 179, 42, 93], [125, 5, 7, 200, 148, 64, 146, 53, 36, 96, 22, 14, 57, 105, 23, 141, 87, 162, 143, 27, 19, 1, 39, 76, 55, 131, 197, 38, 189, 37, 167, 65, 97, 110, 15, 115, 129, 136, 25, 108, 158, 33, 4, 172, 111, 155, 85, 183], [121, 175, 13, 137, 194, 60, 178, 95, 104, 192, 193, 128, 9, 181], [82, 70, 47, 51, 35, 17, 63, 52, 134, 177, 195, 201, 107, 165, 46], [199, 86, 45, 154, 69, 12, 176, 80, 74, 161, 101, 103, 171], [88, 157, 144, 73, 182, 89, 56, 188, 169, 58, 168, 34, 152, 92, 185], [16, 78, 94, 72, 166, 145, 81, 160, 18, 142, 122, 116], [44, 153, 28, 11, 198, 163, 41, 10, 106, 164, 112, 135, 130, 75], [8, 6, 127, 43, 31, 191, 139, 99, 61, 133, 196, 186], [68, 83, 119, 50, 173, 156, 71, 114, 187, 32, 124, 24], [100, 149, 118, 190, 2, 138, 3, 126, 150, 20]]\n",
            "[1, 2, 3, 4, 5, 6, 7, 8, 9, 10, 11, 12, 13, 14, 15, 16, 17, 18, 19, 20, 21, 22, 23, 24, 25, 27, 28, 29, 30, 31, 32, 33, 34, 35, 36, 37, 38, 39, 41, 42, 43, 44, 45, 46, 47, 50, 51, 52, 53, 55, 56, 57, 58, 59, 60, 61, 62, 63, 64, 65, 67, 68, 69, 70, 71, 72, 73, 74, 75, 76, 77, 78, 79, 80, 81, 82, 83, 84, 85, 86, 87, 88, 89, 91, 92, 93, 94, 95, 96, 97, 99, 100, 101, 103, 104, 105, 106, 107, 108, 109, 110, 111, 112, 113, 114, 115, 116, 117, 118, 119, 121, 122, 124, 125, 126, 127, 128, 129, 130, 131, 132, 133, 134, 135, 136, 137, 138, 139, 140, 141, 142, 143, 144, 145, 146, 148, 149, 150, 152, 153, 154, 155, 156, 157, 158, 159, 160, 161, 162, 163, 164, 165, 166, 167, 168, 169, 171, 172, 173, 174, 175, 176, 177, 178, 179, 180, 181, 182, 183, 185, 186, 187, 188, 189, 190, 191, 192, 193, 194, 195, 196, 197, 198, 199, 200, 201]\n"
          ]
        }
      ],
      "source": [
        "import numpy as np\n",
        "print(get_connected_components(g))\n",
        "kt=[[174, 100, 67, 113, 180, 149, 118, 77, 30, 79, 190, 2, 138, 3, 126, 159, 179, 150, 20, 42, 93], [125, 88, 157, 144, 73, 5, 182, 7, 89, 200, 148, 64, 110, 15, 115, 129, 136, 96, 146, 53, 36, 22, 25, 108, 158, 14, 33, 57, 105, 4, 23, 1, 87, 56, 162, 143, 188, 27, 19, 39, 141, 169, 58, 168, 34, 152, 76, 131, 197, 172, 111, 38, 55, 92, 185, 189, 37, 167, 65, 183, 97, 155, 85], [121, 175, 13, 137, 194, 60, 178, 95, 104, 192, 193, 128, 9, 181], [82, 70, 47, 51, 35, 17, 199, 86, 45, 154, 69, 12, 52, 63, 134, 177, 195, 176, 80, 74, 161, 101, 103, 171, 201, 107, 165, 46], [62, 91, 84, 109, 117, 140, 21, 29, 59, 78, 16, 94, 72, 166, 145, 81, 160, 18, 142, 122, 116, 132], [44, 153, 28, 11, 198, 10, 163, 41, 106, 164, 112, 135, 130, 75], [8, 6, 127, 43, 31, 191, 139, 99, 61, 133, 196, 186], [68, 83, 119, 71, 32, 50, 173, 114, 156, 187, 124, 24]]\n",
        "one_d_list = []\n",
        "[one_d_list.extend(row) for row in kt]\n",
        "one_d_list.sort()\n",
        "print(one_d_list)\n"
      ]
    },
    {
      "cell_type": "code",
      "execution_count": null,
      "metadata": {},
      "outputs": [
        {
          "name": "stdout",
          "output_type": "stream",
          "text": [
            "{174: [174, 199, 100, 67, 113, 180, 149, 118, 30, 77, 190, 2, 138, 79, 3, 74, 159, 126, 150, 161, 20, 42, 93, 86], 125: [125, 121, 88, 148, 64, 110, 144, 15, 146, 5, 13, 136, 182, 137, 194, 96, 36, 25, 108, 87, 158, 60, 56, 162, 188, 33, 57, 178, 4, 23, 1, 39, 172, 169, 131, 58, 111, 168, 197, 34, 38, 76, 92, 192, 55, 185, 189, 167, 65, 183, 97, 155, 128, 181, 73, 89, 62], 82: [82, 70, 45, 69, 12, 47, 51, 17, 63, 52, 176, 80, 134, 177, 101, 195, 201, 107, 165, 46, 171, 154], 62: [91, 84, 109, 117, 140, 21, 29, 59], 102: [102], 66: [66], 157: [157, 175, 53, 115, 7, 200, 22, 143, 27, 105, 19, 141, 104, 152, 193, 37, 85, 129], 16: [16, 78, 94, 166, 145, 81, 160, 18, 142, 122, 116], 44: [44, 153, 28, 11, 198, 10, 163, 106, 112, 135, 130], 8: [8, 6, 127, 31, 191, 139, 99, 61, 196, 186, 43, 133], 73: [14, 95, 9], 49: [49], 86: [103], 68: [68, 83, 71, 32, 50, 173, 114, 156, 124], 119: [119, 187], 98: [98], 54: [54], 26: [26], 35: [35], 90: [90], 72: [72], 184: [184], 123: [123], 151: [151], 48: [48], 41: [41, 164, 75], 170: [170], 147: [147], 179: [179], 40: [40], 24: [24], 132: [132], 120: [120]}\n",
            "33\n"
          ]
        },
        {
          "ename": "RuntimeError",
          "evalue": "dictionary changed size during iteration",
          "output_type": "error",
          "traceback": [
            "\u001b[0;31m---------------------------------------------------------------------------\u001b[0m",
            "\u001b[0;31mRuntimeError\u001b[0m                              Traceback (most recent call last)",
            "Cell \u001b[0;32mIn[41], line 38\u001b[0m\n\u001b[1;32m     36\u001b[0m \u001b[38;5;28;01mfor\u001b[39;00m current_player_id, current_group \u001b[38;5;129;01min\u001b[39;00m player_groups\u001b[38;5;241m.\u001b[39mitems():\n\u001b[1;32m     37\u001b[0m     \u001b[38;5;28;01mif\u001b[39;00m \u001b[38;5;28mlen\u001b[39m(current_group) \u001b[38;5;241m<\u001b[39m \u001b[38;5;241m10\u001b[39m:\n\u001b[0;32m---> 38\u001b[0m         \u001b[38;5;28;01mfor\u001b[39;00m larger_player_id, larger_group \u001b[38;5;129;01min\u001b[39;00m player_groups\u001b[38;5;241m.\u001b[39mitems():\n\u001b[1;32m     39\u001b[0m             \u001b[38;5;28;01mif\u001b[39;00m \u001b[38;5;28mlen\u001b[39m(larger_group) \u001b[38;5;241m>\u001b[39m\u001b[38;5;241m=\u001b[39m \u001b[38;5;241m10\u001b[39m \u001b[38;5;129;01mand\u001b[39;00m larger_player_id \u001b[38;5;241m!=\u001b[39m current_player_id:\n\u001b[1;32m     40\u001b[0m                 \u001b[38;5;66;03m# Check if any member of the smaller group fits into the larger group\u001b[39;00m\n\u001b[1;32m     41\u001b[0m                 \u001b[38;5;28;01mfor\u001b[39;00m member_id \u001b[38;5;129;01min\u001b[39;00m current_group[:]:  \u001b[38;5;66;03m# Use a copy of the group to iterate\u001b[39;00m\n",
            "\u001b[0;31mRuntimeError\u001b[0m: dictionary changed size during iteration"
          ]
        }
      ],
      "source": [
        "# Create a list of player IDs\n",
        "player_ids = list(players_data.keys())\n",
        "\n",
        "# Dictionary to store groups\n",
        "# player_groups = {}\n",
        "\n",
        "lenWindow = 7\n",
        "accuracy_expected = 0.8\n",
        "# Function to check if a player fits into a group based on accuracy\n",
        "def player_fits_into_group(player_id, group_id):\n",
        "    # print(player_id, group_id)\n",
        "    # Extract features and target for the current player\n",
        "    X_train, y_train = process_player_data(player_id, players_data[player_id], lenWindow)\n",
        "    model_group = RandomForestClassifier()\n",
        "    model_group.fit(X_train, y_train)\n",
        "    # Extract features and target for the group\n",
        "    X_test_group, y_test_group = [], []\n",
        "    for member_id in player_groups[group_id]:\n",
        "        # print(member_id, players_data[member_id])\n",
        "        X_test_member, y_test_member = process_player_data(member_id, players_data[member_id], lenWindow)\n",
        "        y_pred = model_group.predict(X_test_member)\n",
        "        accuracy = accuracy_score(y_test_member, y_pred)\n",
        "        if (accuracy > accuracy_expected):\n",
        "            return True\n",
        "        # X_test_group.extend(X_train_member)\n",
        "        # y_test_group.extend(y_train_member)\n",
        "    return False\n",
        "    # Train the ML model on the group's data\n",
        "print(player_groups)\n",
        "# Iterate until no further reduction in the number of smaller groups is possible\n",
        "while True:\n",
        "    # Store the initial number of groups\n",
        "    initial_group_count = len(player_groups)\n",
        "    print(initial_group_count)\n",
        "    # Try to fit smaller group members into larger groups\n",
        "    for current_player_id, current_group in player_groups.items():\n",
        "        if len(current_group) < 10:\n",
        "            for larger_player_id, larger_group in player_groups.items():\n",
        "                if len(larger_group) >= 10 and larger_player_id != current_player_id:\n",
        "                    # Check if any member of the smaller group fits into the larger group\n",
        "                    for member_id in current_group[:]:  # Use a copy of the group to iterate\n",
        "                        if player_fits_into_group(member_id, larger_player_id):\n",
        "                            # Move the member from the smaller group to the larger group\n",
        "                            larger_group.append(member_id)\n",
        "                            current_group.remove(member_id)\n",
        "\n",
        "                            # If the smaller group becomes empty, remove it\n",
        "                            if len(current_group) == 0:\n",
        "                                del player_groups[current_player_id]\n",
        "                            break  # Move to the next larger group\n",
        "\n",
        "    # Break the loop if no reduction in the number of groups occurred\n",
        "    if len(player_groups) == initial_group_count:\n",
        "        break\n",
        "\n",
        "# Print the player groups\n",
        "for group_id, players in enumerate(player_groups.values(), start=1):\n",
        "    print(f\"Group {group_id}: Players {players}\")\n"
      ]
    },
    {
      "cell_type": "code",
      "execution_count": null,
      "metadata": {},
      "outputs": [
        {
          "ename": "NameError",
          "evalue": "name 'players_data' is not defined",
          "output_type": "error",
          "traceback": [
            "\u001b[1;31m---------------------------------------------------------------------------\u001b[0m",
            "\u001b[1;31mNameError\u001b[0m                                 Traceback (most recent call last)",
            "Cell \u001b[1;32mIn[2], line 3\u001b[0m\n\u001b[0;32m      1\u001b[0m con_cop\u001b[38;5;241m=\u001b[39m[[\u001b[38;5;241m174\u001b[39m, \u001b[38;5;241m100\u001b[39m, \u001b[38;5;241m67\u001b[39m, \u001b[38;5;241m113\u001b[39m, \u001b[38;5;241m180\u001b[39m, \u001b[38;5;241m149\u001b[39m, \u001b[38;5;241m118\u001b[39m, \u001b[38;5;241m77\u001b[39m, \u001b[38;5;241m30\u001b[39m, \u001b[38;5;241m79\u001b[39m, \u001b[38;5;241m190\u001b[39m, \u001b[38;5;241m2\u001b[39m, \u001b[38;5;241m138\u001b[39m, \u001b[38;5;241m3\u001b[39m, \u001b[38;5;241m126\u001b[39m, \u001b[38;5;241m159\u001b[39m, \u001b[38;5;241m179\u001b[39m, \u001b[38;5;241m150\u001b[39m, \u001b[38;5;241m20\u001b[39m, \u001b[38;5;241m42\u001b[39m, \u001b[38;5;241m93\u001b[39m], [\u001b[38;5;241m125\u001b[39m, \u001b[38;5;241m88\u001b[39m, \u001b[38;5;241m157\u001b[39m, \u001b[38;5;241m144\u001b[39m, \u001b[38;5;241m73\u001b[39m, \u001b[38;5;241m5\u001b[39m, \u001b[38;5;241m182\u001b[39m, \u001b[38;5;241m7\u001b[39m, \u001b[38;5;241m89\u001b[39m, \u001b[38;5;241m200\u001b[39m, \u001b[38;5;241m148\u001b[39m, \u001b[38;5;241m64\u001b[39m, \u001b[38;5;241m110\u001b[39m, \u001b[38;5;241m15\u001b[39m, \u001b[38;5;241m115\u001b[39m, \u001b[38;5;241m129\u001b[39m, \u001b[38;5;241m136\u001b[39m, \u001b[38;5;241m96\u001b[39m, \u001b[38;5;241m146\u001b[39m, \u001b[38;5;241m53\u001b[39m, \u001b[38;5;241m36\u001b[39m, \u001b[38;5;241m22\u001b[39m, \u001b[38;5;241m25\u001b[39m, \u001b[38;5;241m108\u001b[39m, \u001b[38;5;241m158\u001b[39m, \u001b[38;5;241m14\u001b[39m, \u001b[38;5;241m33\u001b[39m, \u001b[38;5;241m57\u001b[39m, \u001b[38;5;241m105\u001b[39m, \u001b[38;5;241m4\u001b[39m, \u001b[38;5;241m23\u001b[39m, \u001b[38;5;241m1\u001b[39m, \u001b[38;5;241m87\u001b[39m, \u001b[38;5;241m56\u001b[39m, \u001b[38;5;241m162\u001b[39m, \u001b[38;5;241m143\u001b[39m, \u001b[38;5;241m188\u001b[39m, \u001b[38;5;241m27\u001b[39m, \u001b[38;5;241m19\u001b[39m, \u001b[38;5;241m39\u001b[39m, \u001b[38;5;241m141\u001b[39m, \u001b[38;5;241m169\u001b[39m, \u001b[38;5;241m58\u001b[39m, \u001b[38;5;241m168\u001b[39m, \u001b[38;5;241m34\u001b[39m, \u001b[38;5;241m152\u001b[39m, \u001b[38;5;241m76\u001b[39m, \u001b[38;5;241m131\u001b[39m, \u001b[38;5;241m197\u001b[39m, \u001b[38;5;241m172\u001b[39m, \u001b[38;5;241m111\u001b[39m, \u001b[38;5;241m38\u001b[39m, \u001b[38;5;241m55\u001b[39m, \u001b[38;5;241m92\u001b[39m, \u001b[38;5;241m185\u001b[39m, \u001b[38;5;241m189\u001b[39m, \u001b[38;5;241m37\u001b[39m, \u001b[38;5;241m167\u001b[39m, \u001b[38;5;241m65\u001b[39m, \u001b[38;5;241m183\u001b[39m, \u001b[38;5;241m97\u001b[39m, \u001b[38;5;241m155\u001b[39m, \u001b[38;5;241m85\u001b[39m], [\u001b[38;5;241m121\u001b[39m, \u001b[38;5;241m175\u001b[39m, \u001b[38;5;241m13\u001b[39m, \u001b[38;5;241m137\u001b[39m, \u001b[38;5;241m194\u001b[39m, \u001b[38;5;241m60\u001b[39m, \u001b[38;5;241m178\u001b[39m, \u001b[38;5;241m95\u001b[39m, \u001b[38;5;241m104\u001b[39m, \u001b[38;5;241m192\u001b[39m, \u001b[38;5;241m193\u001b[39m, \u001b[38;5;241m128\u001b[39m, \u001b[38;5;241m9\u001b[39m, \u001b[38;5;241m181\u001b[39m], [\u001b[38;5;241m82\u001b[39m, \u001b[38;5;241m70\u001b[39m, \u001b[38;5;241m47\u001b[39m, \u001b[38;5;241m51\u001b[39m, \u001b[38;5;241m35\u001b[39m, \u001b[38;5;241m17\u001b[39m, \u001b[38;5;241m199\u001b[39m, \u001b[38;5;241m86\u001b[39m, \u001b[38;5;241m45\u001b[39m, \u001b[38;5;241m154\u001b[39m, \u001b[38;5;241m69\u001b[39m, \u001b[38;5;241m12\u001b[39m, \u001b[38;5;241m52\u001b[39m, \u001b[38;5;241m63\u001b[39m, \u001b[38;5;241m134\u001b[39m, \u001b[38;5;241m177\u001b[39m, \u001b[38;5;241m195\u001b[39m, \u001b[38;5;241m176\u001b[39m, \u001b[38;5;241m80\u001b[39m, \u001b[38;5;241m74\u001b[39m, \u001b[38;5;241m161\u001b[39m, \u001b[38;5;241m101\u001b[39m, \u001b[38;5;241m103\u001b[39m, \u001b[38;5;241m171\u001b[39m, \u001b[38;5;241m201\u001b[39m, \u001b[38;5;241m107\u001b[39m, \u001b[38;5;241m165\u001b[39m, \u001b[38;5;241m46\u001b[39m], [\u001b[38;5;241m62\u001b[39m, \u001b[38;5;241m91\u001b[39m, \u001b[38;5;241m84\u001b[39m, \u001b[38;5;241m109\u001b[39m, \u001b[38;5;241m117\u001b[39m, \u001b[38;5;241m140\u001b[39m, \u001b[38;5;241m21\u001b[39m, \u001b[38;5;241m29\u001b[39m, \u001b[38;5;241m59\u001b[39m, \u001b[38;5;241m78\u001b[39m, \u001b[38;5;241m16\u001b[39m, \u001b[38;5;241m94\u001b[39m, \u001b[38;5;241m72\u001b[39m, \u001b[38;5;241m166\u001b[39m, \u001b[38;5;241m145\u001b[39m, \u001b[38;5;241m81\u001b[39m, \u001b[38;5;241m160\u001b[39m, \u001b[38;5;241m18\u001b[39m, \u001b[38;5;241m142\u001b[39m, \u001b[38;5;241m122\u001b[39m, \u001b[38;5;241m116\u001b[39m, \u001b[38;5;241m132\u001b[39m], [\u001b[38;5;241m44\u001b[39m, \u001b[38;5;241m153\u001b[39m, \u001b[38;5;241m28\u001b[39m, \u001b[38;5;241m11\u001b[39m, \u001b[38;5;241m198\u001b[39m, \u001b[38;5;241m10\u001b[39m, \u001b[38;5;241m163\u001b[39m, \u001b[38;5;241m41\u001b[39m, \u001b[38;5;241m106\u001b[39m, \u001b[38;5;241m164\u001b[39m, \u001b[38;5;241m112\u001b[39m, \u001b[38;5;241m135\u001b[39m, \u001b[38;5;241m130\u001b[39m, \u001b[38;5;241m75\u001b[39m], [\u001b[38;5;241m8\u001b[39m, \u001b[38;5;241m6\u001b[39m, \u001b[38;5;241m127\u001b[39m, \u001b[38;5;241m43\u001b[39m, \u001b[38;5;241m31\u001b[39m, \u001b[38;5;241m191\u001b[39m, \u001b[38;5;241m139\u001b[39m, \u001b[38;5;241m99\u001b[39m, \u001b[38;5;241m61\u001b[39m, \u001b[38;5;241m133\u001b[39m, \u001b[38;5;241m196\u001b[39m, \u001b[38;5;241m186\u001b[39m], [\u001b[38;5;241m68\u001b[39m, \u001b[38;5;241m83\u001b[39m, \u001b[38;5;241m119\u001b[39m, \u001b[38;5;241m71\u001b[39m, \u001b[38;5;241m32\u001b[39m, \u001b[38;5;241m50\u001b[39m, \u001b[38;5;241m173\u001b[39m, \u001b[38;5;241m114\u001b[39m, \u001b[38;5;241m156\u001b[39m, \u001b[38;5;241m187\u001b[39m, \u001b[38;5;241m124\u001b[39m, \u001b[38;5;241m24\u001b[39m]]\n\u001b[0;32m      2\u001b[0m dictprod\u001b[38;5;241m=\u001b[39m{}\n\u001b[1;32m----> 3\u001b[0m player_ids \u001b[38;5;241m=\u001b[39m \u001b[38;5;28mlist\u001b[39m(\u001b[43mplayers_data\u001b[49m\u001b[38;5;241m.\u001b[39mkeys())\n\u001b[0;32m      4\u001b[0m acc\u001b[38;5;241m=\u001b[39m\u001b[38;5;241m0.9\u001b[39m\n\u001b[0;32m      5\u001b[0m \u001b[38;5;28;01mfor\u001b[39;00m p \u001b[38;5;129;01min\u001b[39;00m player_ids:\n",
            "\u001b[1;31mNameError\u001b[0m: name 'players_data' is not defined"
          ]
        }
      ],
      "source": [
        "con_cop=[[174, 100, 67, 113, 180, 149, 118, 77, 30, 79, 190, 2, 138, 3, 126, 159, 179, 150, 20, 42, 93], [125, 88, 157, 144, 73, 5, 182, 7, 89, 200, 148, 64, 110, 15, 115, 129, 136, 96, 146, 53, 36, 22, 25, 108, 158, 14, 33, 57, 105, 4, 23, 1, 87, 56, 162, 143, 188, 27, 19, 39, 141, 169, 58, 168, 34, 152, 76, 131, 197, 172, 111, 38, 55, 92, 185, 189, 37, 167, 65, 183, 97, 155, 85], [121, 175, 13, 137, 194, 60, 178, 95, 104, 192, 193, 128, 9, 181], [82, 70, 47, 51, 35, 17, 199, 86, 45, 154, 69, 12, 52, 63, 134, 177, 195, 176, 80, 74, 161, 101, 103, 171, 201, 107, 165, 46], [62, 91, 84, 109, 117, 140, 21, 29, 59, 78, 16, 94, 72, 166, 145, 81, 160, 18, 142, 122, 116, 132], [44, 153, 28, 11, 198, 10, 163, 41, 106, 164, 112, 135, 130, 75], [8, 6, 127, 43, 31, 191, 139, 99, 61, 133, 196, 186], [68, 83, 119, 71, 32, 50, 173, 114, 156, 187, 124, 24]]\n",
        "dictprod={}\n",
        "player_ids = list(players_data.keys())\n",
        "acc=0.9\n",
        "for p in player_ids:\n",
        "    dictprod[p]=process_player_data(p,players_data[p],lenWindow)\n",
        "\n",
        "dictk={}\n",
        "\n",
        "g=Graph()\n",
        "for p in player_ids:\n",
        "    for q in player_ids:\n",
        "        if(p!=q):\n",
        "            X_test, y_test = dictprod[q]\n",
        "            # Evaluate the model\n",
        "            y_pred = dictmodel[p].predict(X_test)\n",
        "            accuracy1 = accuracy_score(y_test, y_pred)\n",
        "            X_test, y_test = dictprod[p]\n",
        "            # Evaluate the model\n",
        "            y_pred = dictmodel[q].predict(X_test)\n",
        "            dictk[(p,q)]=(accuracy1,accuracy2)\n",
        "            accuracy2 = accuracy_score(y_test, y_pred)\n",
        "            if accuracy1>acc and accuracy2>acc:\n",
        "                g.add_edge(p,q)\n",
        "print(g.count_connected_components())\n",
        "            "
      ]
    }
  ],
  "metadata": {
    "colab": {
      "provenance": []
    },
    "kernelspec": {
      "display_name": "Python 3",
      "name": "python3"
    },
    "language_info": {
      "codemirror_mode": {
        "name": "ipython",
        "version": 3
      },
      "file_extension": ".py",
      "mimetype": "text/x-python",
      "name": "python",
      "nbconvert_exporter": "python",
      "pygments_lexer": "ipython3",
      "version": "3.12.2"
    }
  },
  "nbformat": 4,
  "nbformat_minor": 0
}
